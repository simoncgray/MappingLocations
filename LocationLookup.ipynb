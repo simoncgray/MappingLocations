{
 "cells": [
  {
   "cell_type": "markdown",
   "metadata": {},
   "source": [
    "Initialise the program"
   ]
  },
  {
   "cell_type": "code",
   "execution_count": 193,
   "metadata": {},
   "outputs": [],
   "source": [
    "BingMaps_SubKey = ''\n",
    "BingMaps_format = 'JPEG' #Options for PNG or GIF\n",
    "BingMaps_Size = '600,600' # x,y or horizontal vs vertical\n",
    "BingMaps_Style = 'Aerial' #Options include Aerial; AerialWithLabels; Road; see https://msdn.microsoft.com/en-us/library/ff701716.aspx\n",
    "#Location_lat = ''\n",
    "#Location_long = ''\n",
    "Output_Map = \"filename.jpg\"\n",
    "Read_CSV = \"filename\"\n",
    "Output_CSV = Read_CSV + \"-out\"\n",
    "\n",
    "Read_CSV += \".csv\"\n",
    "Output_CSV += \".csv\"\n",
    "\n",
    "import requests\n",
    "import urllib.request\n",
    "import json\n",
    "import pandas as pd\n",
    "from PIL import Image\n",
    "\n",
    "%matplotlib inline\n",
    "import matplotlib.pyplot as plt\n",
    "\n",
    "Icon_DF = pd.DataFrame(data={'Company':[\"A\", \"B\"], 'Large':[47,7], 'Medium':[44,8], 'Small':[14,9]})\n"
   ]
  },
  {
   "cell_type": "markdown",
   "metadata": {},
   "source": [
    "Read CSV file from local drive and import into data file."
   ]
  },
  {
   "cell_type": "code",
   "execution_count": 194,
   "metadata": {},
   "outputs": [],
   "source": [
    "source_data = pd.read_csv(Read_CSV, sep=\",\", keep_default_na=False)\n",
    "#print(source_data)\n",
    "#print(source_data['City'])"
   ]
  },
  {
   "cell_type": "markdown",
   "metadata": {},
   "source": [
    "Define a function to validate Latitude / Longitude coordinates"
   ]
  },
  {
   "cell_type": "code",
   "execution_count": 195,
   "metadata": {},
   "outputs": [],
   "source": [
    "def CoordTest(num_in):\n",
    "    if num_in:\n",
    "        if not isinstance(num_in, float):\n",
    "            num = float(num_in)\n",
    "            if num > -180 and num < 180:\n",
    "                num_bool = True\n",
    "            else:\n",
    "                num_bool = False\n",
    "        else:\n",
    "            if num > -180 and num < 180:\n",
    "                num_bool = True\n",
    "            else:\n",
    "                num_bool = False\n",
    "    else:\n",
    "        num_bool = False\n",
    "    return(num_bool)"
   ]
  },
  {
   "cell_type": "markdown",
   "metadata": {},
   "source": [
    "Define a function to lookup using BING Maps API\n",
    "\n",
    "http://dev.virtualearth.net/REST/v1/Locations/1%20Microsoft%20Way%20Redmond%20WA%2098052?o=xml&key=BingMapsKey\n",
    "\n",
    "http://dev.virtualearth.net/REST/v1/Locations?countryRegion=countryRegion&adminDistrict=adminDistrict&locality=locality&postalCode=postalCode&addressLine=addressLine&userLocation=userLocation&userIp=userIp&usermapView=usermapView&includeNeighborhood=includeNeighborhood&maxResults=maxResults&key=BingMapsKey\n",
    "\n",
    "\n",
    "Return the co-ordinates of the location"
   ]
  },
  {
   "cell_type": "code",
   "execution_count": 196,
   "metadata": {},
   "outputs": [],
   "source": [
    "def BingLookup(Location):\n",
    "\n",
    "    #Next line prepares a lookup string for inclusion in a URL - e.g. replaces spaces with %20\n",
    "    encodedPostCode = urllib.parse.quote(Location, safe='')\n",
    "    \n",
    "    httprequest = 'http://dev.virtualearth.net/REST/v1/Locations/' + encodedPostCode + '?&key=' + BingMaps_SubKey\n",
    "        \n",
    "    request = urllib.request.Request(httprequest)\n",
    "    response = urllib.request.urlopen(request)\n",
    "    data = json.loads(response.read())\n",
    "    \n",
    "#    print(json.dumps(data, indent=8)) # used to print out the json response in a readable format to identify the nesting\n",
    "    \n",
    "    coordinates = data['resourceSets'][0]['resources'][0]['point']['coordinates']\n",
    "        \n",
    "    return(coordinates)"
   ]
  },
  {
   "cell_type": "markdown",
   "metadata": {},
   "source": [
    "Define a function to provide Bing Map imagery of locations with pushpins\n",
    "\n",
    "https://dev.virtualearth.net/REST/v1/Imagery/Map/imagerySet?pushpin={pushpin_1}&pushpin={pushpin_2}&pushpin={pushpin_n}&mapLayer={mapLayer}&format={format}&mapMetadata={mapMetadata}&key={BingMapsKey}  "
   ]
  },
  {
   "cell_type": "markdown",
   "metadata": {},
   "source": [
    "Define a function to use the address to lookup the postcode if a postcode doesn't exist"
   ]
  },
  {
   "cell_type": "code",
   "execution_count": 197,
   "metadata": {},
   "outputs": [],
   "source": [
    "def BingPostcodeLookup(Address, City, row):\n",
    "    Lookup_Address = Address + \" , \" + City\n",
    "    \n",
    "    #Next line prepares a lookup string for inclusion in a URL - e.g. replaces spaces with %20\n",
    "    encodedLookup_Address = urllib.parse.quote(Lookup_Address, safe='')\n",
    "    \n",
    "    httprequest = 'http://dev.virtualearth.net/REST/v1/Locations/' + encodedLookup_Address + '?&key=' + BingMaps_SubKey\n",
    "        \n",
    "    request = urllib.request.Request(httprequest)\n",
    "    response = urllib.request.urlopen(request)\n",
    "    data = json.loads(response.read())\n",
    "    \n",
    "#    print(json.dumps(data, indent=8))\n",
    "    \n",
    "    if 'postalCode' not in data['resourceSets'][0]['resources'][0]['address']:\n",
    "        postcode = \"Not Found\"\n",
    "    else:\n",
    "        postcode = data['resourceSets'][0]['resources'][0]['address']['postalCode']\n",
    "    \n",
    "#    print(postcode)\n",
    "    \n",
    "    new_postcode = pd.DataFrame({'Postcode': [postcode]}, index=[row])\n",
    "    source_data.update(new_postcode)\n",
    "    \n",
    "#    return(coordinates)    \n"
   ]
  },
  {
   "cell_type": "markdown",
   "metadata": {},
   "source": [
    "Function to work out and update the pushpin icons"
   ]
  },
  {
   "cell_type": "code",
   "execution_count": 198,
   "metadata": {},
   "outputs": [],
   "source": [
    "def Pushpin_Icon(Company, Users, Row):\n",
    "    Count_Icon_DF = 0\n",
    "    new_Icon = 10\n",
    "    for C in Icon_DF[\"Company\"]:\n",
    "        if C == Company:\n",
    "            if Users <300:\n",
    "                new_Icon = Icon_DF[\"Medium\"][Count_Icon_DF]\n",
    "                if Users <100:\n",
    "                    new_Icon = Icon_DF[\"Small\"][Count_Icon_DF]\n",
    "            else:\n",
    "                new_Icon = Icon_DF[\"Large\"][Count_Icon_DF]\n",
    "    \n",
    "                \n",
    "        Count_Icon_DF +=1\n",
    "    \n",
    "    new_Icon_update = pd.DataFrame({'Icon': [new_Icon]}, index=[Row])\n",
    "    source_data.update(new_Icon_update)"
   ]
  },
  {
   "cell_type": "markdown",
   "metadata": {},
   "source": [
    "Function to produce the map and save locally."
   ]
  },
  {
   "cell_type": "code",
   "execution_count": 199,
   "metadata": {},
   "outputs": [],
   "source": [
    "def BingMapImage(pushpin_location):\n",
    "    \n",
    "    Map_Lookup = 'https://dev.virtualearth.net/REST/v1/Imagery/Map/' + BingMaps_Style + '?' + pushpin_location + \"mapSize=\" + BingMaps_Size + \"&format=\" + BingMaps_format + \"&key=\" + BingMaps_SubKey\n",
    "\n",
    "    Map_request = urllib.request.urlretrieve(Map_Lookup, Output_Map)\n",
    "\n",
    "    # following code to make the map appear within the Jupyter Notebook\n",
    "#    image=Image.open(Output_Map)\n",
    "    \n",
    "#    plt.imshow(image, aspect='auto')\n",
    "#    plt.show()\n",
    "\n",
    "    \n",
    "    #print(Map_Lookup) #used so you can manually open the HTTPS request."
   ]
  },
  {
   "cell_type": "markdown",
   "metadata": {},
   "source": [
    "Define a function to update datafile with the found co-ordinates"
   ]
  },
  {
   "cell_type": "code",
   "execution_count": 200,
   "metadata": {},
   "outputs": [],
   "source": [
    "def UpdateDF(Location_lat, Location_long):\n",
    "\n",
    "    new_lat = pd.DataFrame({'Latitude': [Location_lat]}, index=[row_count])\n",
    "    new_long = pd.DataFrame({'Longitude': [Location_long]}, index=[row_count])\n",
    "    source_data.update(new_lat)\n",
    "    source_data.update(new_long)    \n"
   ]
  },
  {
   "cell_type": "markdown",
   "metadata": {},
   "source": [
    "Define a function to create new CSV file with updated data"
   ]
  },
  {
   "cell_type": "code",
   "execution_count": 201,
   "metadata": {},
   "outputs": [],
   "source": [
    "def UpdateCSV():\n",
    "    source_data.to_csv(Output_CSV, encoding='utf-8', index=False)"
   ]
  },
  {
   "cell_type": "markdown",
   "metadata": {},
   "source": [
    "Main part of the program to cycle through each row and call BingLookup to pickup co-ordinates based on Postcode or City.\n",
    "\n",
    "Update CSV with found co-ordinates.\n",
    "\n",
    "Once all locations have been identified, call BingMapImage to create a map based on the locations."
   ]
  },
  {
   "cell_type": "code",
   "execution_count": 202,
   "metadata": {
    "scrolled": false
   },
   "outputs": [],
   "source": [
    "row_count = 0\n",
    "pushpin_location = \"\"\n",
    "for Location in source_data[\"Reference\"]:\n",
    "    if source_data[\"Postcode\"][row_count]:\n",
    "        Location = source_data[\"Postcode\"][row_count]\n",
    "    else:\n",
    "        BingPostcodeLookup(source_data[\"Address\"][row_count],source_data[\"City\"][row_count],row_count)\n",
    "\n",
    "    Location_lat = source_data[\"Latitude\"][row_count]\n",
    "    Location_long = source_data[\"Longitude\"][row_count]\n",
    "\n",
    "    LatTest_Return = CoordTest(Location_lat)\n",
    "    LongTest_Return = CoordTest(Location_long)\n",
    "\n",
    "    if not LatTest_Return and not LongTest_Return:\n",
    "        coordinates = BingLookup(Location)\n",
    "        Location_lat = coordinates[0]\n",
    "        Location_long = coordinates[1]\n",
    "        UpdateDF(Location_lat, Location_long) #update Dataframe with found location long/lat\n",
    "    \n",
    "    #Site reference section\n",
    "    Site_Ref = source_data[\"Reference\"][row_count]\n",
    "    if len(Site_Ref) > 3:\n",
    "        Site_Ref_Short = Site_Ref[:3]\n",
    "    else:\n",
    "        Site_Ref_Short = Site_Ref\n",
    "   \n",
    "    #Site Icon section\n",
    "    Site_Icon = source_data[\"Icon\"][row_count]\n",
    "    if not Site_Icon:\n",
    "        Pushpin_Icon(source_data[\"Company\"][row_count], source_data[\"Users\"][row_count], row_count)\n",
    "        Site_Icon1 = source_data[\"Icon\"][row_count]\n",
    "    \n",
    "    Site_Icon = int(round(Site_Icon1))\n",
    "    \n",
    "    #Create pushpin\n",
    "    if not source_data[\"Postcode\"][row_count] == \"Not Found\":        \n",
    "        pushpin_location +=\"pushpin=\" + str(Location_lat) + \",\" + str(Location_long) + \";\" + str(Site_Icon) + \";\" + Site_Ref_Short + '&'\n",
    "    \n",
    "    row_count +=1\n",
    "    \n",
    "BingMapImage(pushpin_location) #create Map based on locations using Bing Maps\n",
    "\n",
    "#print(source_data)\n",
    "UpdateCSV() #create a new file with location latitude / longitude included.\n",
    "\n",
    "#print(\"End\")"
   ]
  }
 ],
 "metadata": {
  "kernelspec": {
   "display_name": "Python 3",
   "language": "python",
   "name": "python3"
  },
  "language_info": {
   "codemirror_mode": {
    "name": "ipython",
    "version": 3
   },
   "file_extension": ".py",
   "mimetype": "text/x-python",
   "name": "python",
   "nbconvert_exporter": "python",
   "pygments_lexer": "ipython3",
   "version": "3.6.6"
  }
 },
 "nbformat": 4,
 "nbformat_minor": 2
}
